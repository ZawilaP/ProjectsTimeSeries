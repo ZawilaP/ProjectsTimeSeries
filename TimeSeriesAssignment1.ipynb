{
 "cells": [
  {
   "cell_type": "markdown",
   "metadata": {},
   "source": [
    "# Assignment 1\n",
    "\n",
    "### Piotr Zawiła-Niedźwiecki"
   ]
  },
  {
   "cell_type": "markdown",
   "metadata": {},
   "source": [
    "#### EXERCISE 1"
   ]
  },
  {
   "cell_type": "markdown",
   "metadata": {},
   "source": [
    "- The data for this exercise is found on the course page in the file sp5may.dat It has 3 columns:\n",
    "log(futures price), log(spot price) and cost-of-carry (×100). The time interval is 1 minute. Let\n",
    "ft and st be the log prices of future and spot respectively (from columns 1 and 2). Consider\n",
    "y_{t} = f_{t}−f_{t-1} and x_{t} = s_{t} −s_{t−1}. Build a regression model, with time series errors, between {yt}\n",
    "and {xt} where {yt} is the dependent variable. That is,\n",
    "    * Find a model y_{t} = β_{0} + β_{1}x_{t} + eps_{t}, what are the estimates of β0 and β1?\n",
    "    * Store the residuals. Try fitting an AR model to the residuals. Is ‘white noise’ a good model for the residuals? Or does an AR(p) process give a better model?"
   ]
  },
  {
   "cell_type": "code",
   "execution_count": 1,
   "metadata": {},
   "outputs": [],
   "source": [
    "import pandas as pd\n",
    "import statsmodels.api as sm\n",
    "from statsmodels.tsa.ar_model import AutoReg"
   ]
  },
  {
   "cell_type": "code",
   "execution_count": 2,
   "metadata": {},
   "outputs": [],
   "source": [
    "filepath = r\"C:\\Users\\piotr\\Desktop\\sp5may.csv\"\n",
    "\n",
    "input_data = pd.read_csv(filepath, sep = \"  \", engine = \"python\")"
   ]
  },
  {
   "cell_type": "code",
   "execution_count": 3,
   "metadata": {},
   "outputs": [
    {
     "name": "stdout",
     "output_type": "stream",
     "text": [
      "Sample data: \n",
      "    lnfuture   lnspot     cost\n",
      "0   6.08382  6.08618 -0.16501\n",
      "1   6.08404  6.08623 -0.16501\n",
      "2   6.08473  6.08630 -0.16501\n",
      "3   6.08450  6.08630 -0.16501\n",
      "4   6.08450  6.08623 -0.16501\n",
      "Sample data shape: \n",
      " (7061, 3)\n",
      "Sample data column names: \n",
      "Index(['lnfuture', 'lnspot', 'cost'], dtype='object')\n"
     ]
    }
   ],
   "source": [
    "print(f\"Sample data: \\n {input_data.head()}\")\n",
    "print(f\"Sample data shape: \\n {input_data.shape}\")\n",
    "print(f\"Sample data column names: \\n{input_data.columns}\")"
   ]
  },
  {
   "cell_type": "markdown",
   "metadata": {},
   "source": [
    "Creating columns moved by one, so we can simply subtract them from the initial ones "
   ]
  },
  {
   "cell_type": "code",
   "execution_count": 4,
   "metadata": {},
   "outputs": [],
   "source": [
    "lnfuture_column_modified = list(input_data[\"lnfuture\"])\n",
    "del lnfuture_column_modified[0]\n",
    "lnfuture_column_modified.append(0)\n",
    "new_lnfuture = pd.Series(lnfuture_column_modified)\n",
    "\n",
    "lnspot_column_modified = list(input_data[\"lnspot\"])\n",
    "del lnspot_column_modified[0]\n",
    "lnspot_column_modified.append(0)\n",
    "new_lnspot = pd.Series(lnspot_column_modified)"
   ]
  },
  {
   "cell_type": "markdown",
   "metadata": {},
   "source": [
    "Dropping last elements, because they didn't have their predeccesor"
   ]
  },
  {
   "cell_type": "code",
   "execution_count": 5,
   "metadata": {},
   "outputs": [
    {
     "name": "stderr",
     "output_type": "stream",
     "text": [
      "C:\\Users\\piotr\\Anaconda3\\lib\\site-packages\\numpy\\core\\fromnumeric.py:2389: FutureWarning: Method .ptp is deprecated and will be removed in a future version. Use numpy.ptp instead.\n",
      "  return ptp(axis=axis, out=out, **kwargs)\n"
     ]
    }
   ],
   "source": [
    "y_t = (input_data[\"lnfuture\"] - new_lnfuture).drop(labels = [7060])\n",
    "x_t = (input_data[\"lnspot\"] - new_lnspot).drop(labels = [7060])\n",
    "x_t = sm.add_constant(x_t)"
   ]
  },
  {
   "cell_type": "markdown",
   "metadata": {},
   "source": [
    "Let's find estimates of parameters by performing linear regression. I do realise that most libraries give information about linear regression fits, while they fit certain Time Series. But I wanted to remind myself how to do simple Linear Regression in Python, that's the reason for below approach."
   ]
  },
  {
   "cell_type": "code",
   "execution_count": 6,
   "metadata": {},
   "outputs": [
    {
     "data": {
      "text/html": [
       "<table class=\"simpletable\">\n",
       "<caption>OLS Regression Results</caption>\n",
       "<tr>\n",
       "  <th>Dep. Variable:</th>            <td>y</td>        <th>  R-squared:         </th>  <td>   0.151</td> \n",
       "</tr>\n",
       "<tr>\n",
       "  <th>Model:</th>                   <td>OLS</td>       <th>  Adj. R-squared:    </th>  <td>   0.151</td> \n",
       "</tr>\n",
       "<tr>\n",
       "  <th>Method:</th>             <td>Least Squares</td>  <th>  F-statistic:       </th>  <td>   1255.</td> \n",
       "</tr>\n",
       "<tr>\n",
       "  <th>Date:</th>             <td>Sat, 04 Apr 2020</td> <th>  Prob (F-statistic):</th>  <td>4.41e-253</td>\n",
       "</tr>\n",
       "<tr>\n",
       "  <th>Time:</th>                 <td>13:19:47</td>     <th>  Log-Likelihood:    </th>  <td>  47375.</td> \n",
       "</tr>\n",
       "<tr>\n",
       "  <th>No. Observations:</th>      <td>  7060</td>      <th>  AIC:               </th> <td>-9.475e+04</td>\n",
       "</tr>\n",
       "<tr>\n",
       "  <th>Df Residuals:</th>          <td>  7058</td>      <th>  BIC:               </th> <td>-9.473e+04</td>\n",
       "</tr>\n",
       "<tr>\n",
       "  <th>Df Model:</th>              <td>     1</td>      <th>                     </th>      <td> </td>    \n",
       "</tr>\n",
       "<tr>\n",
       "  <th>Covariance Type:</th>      <td>nonrobust</td>    <th>                     </th>      <td> </td>    \n",
       "</tr>\n",
       "</table>\n",
       "<table class=\"simpletable\">\n",
       "<tr>\n",
       "    <td></td>       <th>coef</th>     <th>std err</th>      <th>t</th>      <th>P>|t|</th>  <th>[0.025</th>    <th>0.975]</th>  \n",
       "</tr>\n",
       "<tr>\n",
       "  <th>const</th> <td>-1.354e-06</td> <td> 3.51e-06</td> <td>   -0.386</td> <td> 0.700</td> <td>-8.23e-06</td> <td> 5.53e-06</td>\n",
       "</tr>\n",
       "<tr>\n",
       "  <th>0</th>     <td>    0.6212</td> <td>    0.018</td> <td>   35.420</td> <td> 0.000</td> <td>    0.587</td> <td>    0.656</td>\n",
       "</tr>\n",
       "</table>\n",
       "<table class=\"simpletable\">\n",
       "<tr>\n",
       "  <th>Omnibus:</th>       <td>1258.852</td> <th>  Durbin-Watson:     </th> <td>   2.128</td> \n",
       "</tr>\n",
       "<tr>\n",
       "  <th>Prob(Omnibus):</th>  <td> 0.000</td>  <th>  Jarque-Bera (JB):  </th> <td>21697.575</td>\n",
       "</tr>\n",
       "<tr>\n",
       "  <th>Skew:</th>           <td> 0.340</td>  <th>  Prob(JB):          </th> <td>    0.00</td> \n",
       "</tr>\n",
       "<tr>\n",
       "  <th>Kurtosis:</th>       <td>11.561</td>  <th>  Cond. No.          </th> <td>5.00e+03</td> \n",
       "</tr>\n",
       "</table><br/><br/>Warnings:<br/>[1] Standard Errors assume that the covariance matrix of the errors is correctly specified.<br/>[2] The condition number is large,  5e+03. This might indicate that there are<br/>strong multicollinearity or other numerical problems."
      ],
      "text/plain": [
       "<class 'statsmodels.iolib.summary.Summary'>\n",
       "\"\"\"\n",
       "                            OLS Regression Results                            \n",
       "==============================================================================\n",
       "Dep. Variable:                      y   R-squared:                       0.151\n",
       "Model:                            OLS   Adj. R-squared:                  0.151\n",
       "Method:                 Least Squares   F-statistic:                     1255.\n",
       "Date:                Sat, 04 Apr 2020   Prob (F-statistic):          4.41e-253\n",
       "Time:                        13:19:47   Log-Likelihood:                 47375.\n",
       "No. Observations:                7060   AIC:                        -9.475e+04\n",
       "Df Residuals:                    7058   BIC:                        -9.473e+04\n",
       "Df Model:                           1                                         \n",
       "Covariance Type:            nonrobust                                         \n",
       "==============================================================================\n",
       "                 coef    std err          t      P>|t|      [0.025      0.975]\n",
       "------------------------------------------------------------------------------\n",
       "const      -1.354e-06   3.51e-06     -0.386      0.700   -8.23e-06    5.53e-06\n",
       "0              0.6212      0.018     35.420      0.000       0.587       0.656\n",
       "==============================================================================\n",
       "Omnibus:                     1258.852   Durbin-Watson:                   2.128\n",
       "Prob(Omnibus):                  0.000   Jarque-Bera (JB):            21697.575\n",
       "Skew:                           0.340   Prob(JB):                         0.00\n",
       "Kurtosis:                      11.561   Cond. No.                     5.00e+03\n",
       "==============================================================================\n",
       "\n",
       "Warnings:\n",
       "[1] Standard Errors assume that the covariance matrix of the errors is correctly specified.\n",
       "[2] The condition number is large,  5e+03. This might indicate that there are\n",
       "strong multicollinearity or other numerical problems.\n",
       "\"\"\""
      ]
     },
     "execution_count": 6,
     "metadata": {},
     "output_type": "execute_result"
    }
   ],
   "source": [
    "model = sm.OLS(y_t, x_t).fit()\n",
    "model.summary()"
   ]
  },
  {
   "cell_type": "markdown",
   "metadata": {},
   "source": [
    "Not surprisingly our model isn't good, as the R-squared value above is pretty low. \n",
    "- Estimates are as follows:\n",
    "    * β_{0} = 0.6212 \n",
    "    * β_{1} = -1.354e-06\n",
    "    \n",
    "Now let's get the residuals:"
   ]
  },
  {
   "cell_type": "code",
   "execution_count": 7,
   "metadata": {},
   "outputs": [],
   "source": [
    "predictions = model.predict(x_t)"
   ]
  },
  {
   "cell_type": "code",
   "execution_count": 8,
   "metadata": {},
   "outputs": [],
   "source": [
    "residuals = y_t - predictions"
   ]
  },
  {
   "cell_type": "code",
   "execution_count": 9,
   "metadata": {},
   "outputs": [
    {
     "data": {
      "text/plain": [
       "<matplotlib.axes._subplots.AxesSubplot at 0x2dfb000b2b0>"
      ]
     },
     "execution_count": 9,
     "metadata": {},
     "output_type": "execute_result"
    }
   ],
   "source": [
    "residuals.plot()"
   ]
  },
  {
   "cell_type": "markdown",
   "metadata": {},
   "source": [
    "Now let's model these residuals, and see if they are white noise. Above plot even tho at first very similar to white noise, we can see there are cases of conditional heteroscedasticity, so I'd expect some AR(q) model to fare better.\n",
    "\n",
    "To check that I will use 3 information criterions, and see which model they would have picked."
   ]
  },
  {
   "cell_type": "code",
   "execution_count": 10,
   "metadata": {},
   "outputs": [],
   "source": [
    "aic_list = []\n",
    "hqic_list = []\n",
    "bic_list = []\n",
    "\n",
    "for i in range(0,100):\n",
    "    AR_model = AutoReg(residuals, i).fit()\n",
    "    aic_list.append(AR_model.aic)\n",
    "    hqic_list.append(AR_model.hqic)\n",
    "    bic_list.append(AR_model.bic)"
   ]
  },
  {
   "cell_type": "code",
   "execution_count": 11,
   "metadata": {},
   "outputs": [
    {
     "name": "stdout",
     "output_type": "stream",
     "text": [
      "Minimal value of AIC criterion was:  \n",
      " -16.289909336575334 \n",
      " Which was result for model AR(45)\n"
     ]
    },
    {
     "data": {
      "image/png": "[encoded data removed]",
      "text/plain": [
       "<Figure size 432x288 with 1 Axes>"
      ]
     },
     "metadata": {
      "needs_background": "light"
     },
     "output_type": "display_data"
    }
   ],
   "source": [
    "pd.Series(aic_list).plot()\n",
    "print(f\"Minimal value of AIC criterion was:  \\n {min(aic_list)} \\n Which was result for model AR({aic_list.index(min(aic_list))})\")"
   ]
  },
  {
   "cell_type": "code",
   "execution_count": 12,
   "metadata": {},
   "outputs": [
    {
     "name": "stdout",
     "output_type": "stream",
     "text": [
      "Minimal value of HQIC criterion was:  \n",
      " -16.279888935101496 \n",
      " Which was result for model AR(27)\n"
     ]
    },
    {
     "data": {
      "image/png": "[encoded data removed]",
      "text/plain": [
       "<Figure size 432x288 with 1 Axes>"
      ]
     },
     "metadata": {
      "needs_background": "light"
     },
     "output_type": "display_data"
    }
   ],
   "source": [
    "pd.Series(hqic_list).plot()\n",
    "print(f\"Minimal value of HQIC criterion was:  \\n {min(hqic_list)} \\n Which was result for model AR({hqic_list.index(min(hqic_list))})\")"
   ]
  },
  {
   "cell_type": "code",
   "execution_count": 13,
   "metadata": {},
   "outputs": [
    {
     "name": "stdout",
     "output_type": "stream",
     "text": [
      "Minimal value of BIC criterion was:  \n",
      " -16.269618280724792 \n",
      " Which was result for model AR(13)\n"
     ]
    },
    {
     "data": {
      "image/png": "[encoded data removed]",
      "text/plain": [
       "<Figure size 432x288 with 1 Axes>"
      ]
     },
     "metadata": {
      "needs_background": "light"
     },
     "output_type": "display_data"
    }
   ],
   "source": [
    "pd.Series(bic_list).plot()\n",
    "print(f\"Minimal value of BIC criterion was:  \\n {min(bic_list)} \\n Which was result for model AR({bic_list.index(min(bic_list))})\")"
   ]
  },
  {
   "cell_type": "markdown",
   "metadata": {},
   "source": [
    "So depending on which criterion we would base our decision making, we would either choose AR(13), AR(27) or AR(45). Not surprising that BIC choose the smallest model possible, while AIC was more lenient in it's approach."
   ]
  },
  {
   "cell_type": "markdown",
   "metadata": {},
   "source": [
    "#### EXERCISE 2"
   ]
  },
  {
   "cell_type": "markdown",
   "metadata": {},
   "source": [
    "-  The data for this exercise is found in the file q-gdpdef.txt on the course page. It contains the\n",
    "data for the United States for the first quarter of 1947 to the last quarter of 2008. Data is in\n",
    "the format year, month, day and deflator. The data are seasonally adjusted and equal to 100 for\n",
    "the year 2000. Build and ARIMA model for the series and check the validity of the fitted model.\n",
    "Use the fitted model to predict the inflation for each quarter of 2009."
   ]
  },
  {
   "cell_type": "code",
   "execution_count": 14,
   "metadata": {},
   "outputs": [],
   "source": [
    "from pandas.plotting import autocorrelation_plot\n",
    "from statsmodels.tsa.arima_model import ARIMA\n",
    "import pmdarima as pm"
   ]
  },
  {
   "cell_type": "code",
   "execution_count": 15,
   "metadata": {},
   "outputs": [],
   "source": [
    "filepath2 = r\"C:\\Users\\piotr\\Desktop\\q_gdpdef.txt\"\n",
    "input_data2 = pd.read_csv(filepath2, sep = \" \", engine = \"python\")"
   ]
  },
  {
   "cell_type": "code",
   "execution_count": 16,
   "metadata": {},
   "outputs": [
    {
     "data": {
      "text/html": [
       "<div>\n",
       "<style scoped>\n",
       "    .dataframe tbody tr th:only-of-type {\n",
       "        vertical-align: middle;\n",
       "    }\n",
       "\n",
       "    .dataframe tbody tr th {\n",
       "        vertical-align: top;\n",
       "    }\n",
       "\n",
       "    .dataframe thead th {\n",
       "        text-align: right;\n",
       "    }\n",
       "</style>\n",
       "<table border=\"1\" class=\"dataframe\">\n",
       "  <thead>\n",
       "    <tr style=\"text-align: right;\">\n",
       "      <th></th>\n",
       "      <th>year</th>\n",
       "      <th>mon</th>\n",
       "      <th>day</th>\n",
       "      <th>gdpdef</th>\n",
       "    </tr>\n",
       "  </thead>\n",
       "  <tbody>\n",
       "    <tr>\n",
       "      <th>0</th>\n",
       "      <td>1947</td>\n",
       "      <td>1</td>\n",
       "      <td>1</td>\n",
       "      <td>15.105</td>\n",
       "    </tr>\n",
       "    <tr>\n",
       "      <th>1</th>\n",
       "      <td>1947</td>\n",
       "      <td>4</td>\n",
       "      <td>1</td>\n",
       "      <td>15.329</td>\n",
       "    </tr>\n",
       "    <tr>\n",
       "      <th>2</th>\n",
       "      <td>1947</td>\n",
       "      <td>7</td>\n",
       "      <td>1</td>\n",
       "      <td>15.597</td>\n",
       "    </tr>\n",
       "    <tr>\n",
       "      <th>3</th>\n",
       "      <td>1947</td>\n",
       "      <td>10</td>\n",
       "      <td>1</td>\n",
       "      <td>15.989</td>\n",
       "    </tr>\n",
       "    <tr>\n",
       "      <th>4</th>\n",
       "      <td>1948</td>\n",
       "      <td>1</td>\n",
       "      <td>1</td>\n",
       "      <td>16.111</td>\n",
       "    </tr>\n",
       "  </tbody>\n",
       "</table>\n",
       "</div>"
      ],
      "text/plain": [
       "   year  mon  day  gdpdef\n",
       "0  1947    1    1  15.105\n",
       "1  1947    4    1  15.329\n",
       "2  1947    7    1  15.597\n",
       "3  1947   10    1  15.989\n",
       "4  1948    1    1  16.111"
      ]
     },
     "execution_count": 16,
     "metadata": {},
     "output_type": "execute_result"
    }
   ],
   "source": [
    "input_data2.head(5)"
   ]
  },
  {
   "cell_type": "markdown",
   "metadata": {},
   "source": [
    "Given such data, we will only need index, and values, let's modify our data then, so it will be easily distuingishable."
   ]
  },
  {
   "cell_type": "code",
   "execution_count": 17,
   "metadata": {},
   "outputs": [],
   "source": [
    "input_data2[\"date\"] = input_data2[\"year\"].astype(str)+\"_\"+input_data2[\"mon\"].astype(str)+\"_\"+input_data2[\"day\"].astype(str)"
   ]
  },
  {
   "cell_type": "code",
   "execution_count": 18,
   "metadata": {},
   "outputs": [
    {
     "data": {
      "text/html": [
       "<div>\n",
       "<style scoped>\n",
       "    .dataframe tbody tr th:only-of-type {\n",
       "        vertical-align: middle;\n",
       "    }\n",
       "\n",
       "    .dataframe tbody tr th {\n",
       "        vertical-align: top;\n",
       "    }\n",
       "\n",
       "    .dataframe thead th {\n",
       "        text-align: right;\n",
       "    }\n",
       "</style>\n",
       "<table border=\"1\" class=\"dataframe\">\n",
       "  <thead>\n",
       "    <tr style=\"text-align: right;\">\n",
       "      <th></th>\n",
       "      <th>year</th>\n",
       "      <th>mon</th>\n",
       "      <th>day</th>\n",
       "      <th>gdpdef</th>\n",
       "      <th>date</th>\n",
       "    </tr>\n",
       "  </thead>\n",
       "  <tbody>\n",
       "    <tr>\n",
       "      <th>0</th>\n",
       "      <td>1947</td>\n",
       "      <td>1</td>\n",
       "      <td>1</td>\n",
       "      <td>15.105</td>\n",
       "      <td>1947_1_1</td>\n",
       "    </tr>\n",
       "    <tr>\n",
       "      <th>1</th>\n",
       "      <td>1947</td>\n",
       "      <td>4</td>\n",
       "      <td>1</td>\n",
       "      <td>15.329</td>\n",
       "      <td>1947_4_1</td>\n",
       "    </tr>\n",
       "    <tr>\n",
       "      <th>2</th>\n",
       "      <td>1947</td>\n",
       "      <td>7</td>\n",
       "      <td>1</td>\n",
       "      <td>15.597</td>\n",
       "      <td>1947_7_1</td>\n",
       "    </tr>\n",
       "    <tr>\n",
       "      <th>3</th>\n",
       "      <td>1947</td>\n",
       "      <td>10</td>\n",
       "      <td>1</td>\n",
       "      <td>15.989</td>\n",
       "      <td>1947_10_1</td>\n",
       "    </tr>\n",
       "    <tr>\n",
       "      <th>4</th>\n",
       "      <td>1948</td>\n",
       "      <td>1</td>\n",
       "      <td>1</td>\n",
       "      <td>16.111</td>\n",
       "      <td>1948_1_1</td>\n",
       "    </tr>\n",
       "  </tbody>\n",
       "</table>\n",
       "</div>"
      ],
      "text/plain": [
       "   year  mon  day  gdpdef       date\n",
       "0  1947    1    1  15.105   1947_1_1\n",
       "1  1947    4    1  15.329   1947_4_1\n",
       "2  1947    7    1  15.597   1947_7_1\n",
       "3  1947   10    1  15.989  1947_10_1\n",
       "4  1948    1    1  16.111   1948_1_1"
      ]
     },
     "execution_count": 18,
     "metadata": {},
     "output_type": "execute_result"
    }
   ],
   "source": [
    "input_data2.head()"
   ]
  },
  {
   "cell_type": "markdown",
   "metadata": {},
   "source": [
    "So everything is as expected. Let's just remove, year, mon, day columns, and reindex our data."
   ]
  },
  {
   "cell_type": "code",
   "execution_count": 19,
   "metadata": {},
   "outputs": [
    {
     "data": {
      "text/html": [
       "<div>\n",
       "<style scoped>\n",
       "    .dataframe tbody tr th:only-of-type {\n",
       "        vertical-align: middle;\n",
       "    }\n",
       "\n",
       "    .dataframe tbody tr th {\n",
       "        vertical-align: top;\n",
       "    }\n",
       "\n",
       "    .dataframe thead th {\n",
       "        text-align: right;\n",
       "    }\n",
       "</style>\n",
       "<table border=\"1\" class=\"dataframe\">\n",
       "  <thead>\n",
       "    <tr style=\"text-align: right;\">\n",
       "      <th></th>\n",
       "      <th>gdpdef</th>\n",
       "    </tr>\n",
       "    <tr>\n",
       "      <th>date</th>\n",
       "      <th></th>\n",
       "    </tr>\n",
       "  </thead>\n",
       "  <tbody>\n",
       "    <tr>\n",
       "      <th>1947_1_1</th>\n",
       "      <td>15.105</td>\n",
       "    </tr>\n",
       "    <tr>\n",
       "      <th>1947_4_1</th>\n",
       "      <td>15.329</td>\n",
       "    </tr>\n",
       "    <tr>\n",
       "      <th>1947_7_1</th>\n",
       "      <td>15.597</td>\n",
       "    </tr>\n",
       "    <tr>\n",
       "      <th>1947_10_1</th>\n",
       "      <td>15.989</td>\n",
       "    </tr>\n",
       "    <tr>\n",
       "      <th>1948_1_1</th>\n",
       "      <td>16.111</td>\n",
       "    </tr>\n",
       "  </tbody>\n",
       "</table>\n",
       "</div>"
      ],
      "text/plain": [
       "           gdpdef\n",
       "date             \n",
       "1947_1_1   15.105\n",
       "1947_4_1   15.329\n",
       "1947_7_1   15.597\n",
       "1947_10_1  15.989\n",
       "1948_1_1   16.111"
      ]
     },
     "execution_count": 19,
     "metadata": {},
     "output_type": "execute_result"
    }
   ],
   "source": [
    "preprocessed_data = input_data2.drop([\"year\", \"mon\", \"day\"], axis = 1).set_index(\"date\")\n",
    "preprocessed_data.head(5)"
   ]
  },
  {
   "cell_type": "markdown",
   "metadata": {},
   "source": [
    "So now that our preprocessing is done let's start proper modelling and exploratory analysis."
   ]
  },
  {
   "cell_type": "code",
   "execution_count": 20,
   "metadata": {},
   "outputs": [
    {
     "data": {
      "text/plain": [
       "<matplotlib.axes._subplots.AxesSubplot at 0x2dfb4aeb978>"
      ]
     },
     "execution_count": 20,
     "metadata": {},
     "output_type": "execute_result"
    },
    {
     "data": {
      "image/png": "[encoded data removed]",
      "text/plain": [
       "<Figure size 432x288 with 1 Axes>"
      ]
     },
     "metadata": {
      "needs_background": "light"
     },
     "output_type": "display_data"
    }
   ],
   "source": [
    "preprocessed_data.plot()"
   ]
  },
  {
   "cell_type": "markdown",
   "metadata": {},
   "source": [
    "We can clearly see how seasonal adjustments made the plot way smoother."
   ]
  },
  {
   "cell_type": "code",
   "execution_count": 21,
   "metadata": {},
   "outputs": [
    {
     "data": {
      "text/plain": [
       "<matplotlib.axes._subplots.AxesSubplot at 0x2dfb4b42eb8>"
      ]
     },
     "execution_count": 21,
     "metadata": {},
     "output_type": "execute_result"
    },
    {
     "data": {
      "image/png": "[encoded data removed]",
      "text/plain": [
       "<Figure size 432x288 with 1 Axes>"
      ]
     },
     "metadata": {
      "needs_background": "light"
     },
     "output_type": "display_data"
    }
   ],
   "source": [
    "autocorrelation_plot(preprocessed_data)"
   ]
  },
  {
   "cell_type": "markdown",
   "metadata": {},
   "source": [
    "Here we can see, that we have perhaps significant autocorrelation for around first 70 lags.\n",
    "\n",
    "Let's start then with ARIMA(40, p,q). Below auto_arima will choose best values of those three parameters, let's use above plots to narrow down the grid search space. Although our search space is huge, and I'm not using information criterion based search, as it returned that the data wasn't supposed to be fit to ARIMA models (which surprised me as in lecture we had similar data, which was best fit for ARIMA(0,2,1))."
   ]
  },
  {
   "cell_type": "code",
   "execution_count": null,
   "metadata": {},
   "outputs": [],
   "source": [
    "model2 = pm.auto_arima(y = preprocessed_data, seasonal = False, n_jobs = -1, start_p = 40,max_p = 70, max_d=4, m=4 ,max_order = None, stepwise = False)"
   ]
  },
  {
   "cell_type": "code",
   "execution_count": null,
   "metadata": {},
   "outputs": [],
   "source": [
    "not_pmdarima_model = ARIMA(preprocessed_data, order = (47,1,1))\n",
    "result = not_pmdarima_model.fit()\n",
    "result.summary()"
   ]
  }
 ],
 "metadata": {
  "kernelspec": {
   "display_name": "Python 3",
   "language": "python",
   "name": "python3"
  },
  "language_info": {
   "codemirror_mode": {
    "name": "ipython",
    "version": 3
   },
   "file_extension": ".py",
   "mimetype": "text/x-python",
   "name": "python",
   "nbconvert_exporter": "python",
   "pygments_lexer": "ipython3",
   "version": "3.7.3"
  }
 },
 "nbformat": 4,
 "nbformat_minor": 2
}
